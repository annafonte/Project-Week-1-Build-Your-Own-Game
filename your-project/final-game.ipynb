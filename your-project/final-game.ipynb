{
 "cells": [
  {
   "cell_type": "markdown",
   "metadata": {},
   "source": [
    "# Message encrypter and decrypter"
   ]
  },
  {
   "cell_type": "markdown",
   "metadata": {},
   "source": [
    "Welcome to the ultimate message encoder! It's time to send your secret statements encrypted through the Caesar Algorythm. Insert a message to make it secret and then decrypt it again."
   ]
  },
  {
   "cell_type": "code",
   "execution_count": 5,
   "metadata": {},
   "outputs": [],
   "source": [
    "import string\n",
    "message = \"\"\n",
    "def encrypter(message):\n",
    "    cypher_message = []\n",
    "    for letter in message:\n",
    "        if letter not in string.ascii_letters:\n",
    "            cypher_message.append(letter)\n",
    "        else:\n",
    "            cypher_message.append(string.ascii_letters[(string.ascii_letters.index(letter) + 9) % len(string.ascii_letters)])\n",
    "    cypher = \"\".join(cypher_message)\n",
    "    return cypher\n",
    "\n",
    "def decrypter(message):\n",
    "    cypher_message = []\n",
    "    for letter in message:\n",
    "        if letter not in string.ascii_letters:\n",
    "            cypher_message.append(letter)\n",
    "        else:\n",
    "            cypher_message.append(string.ascii_letters[(string.ascii_letters.index(letter) - 9) % len(string.ascii_letters)])\n",
    "    cypher = \"\".join(cypher_message)\n",
    "    return cypher"
   ]
  },
  {
   "cell_type": "code",
   "execution_count": 6,
   "metadata": {},
   "outputs": [
    {
     "name": "stdout",
     "output_type": "stream",
     "text": [
      "Write the message you want to encrypt: Hello World, this is a demo\n",
      "Qnuux fxAum, CqrB rB j mnvx\n",
      "Now, it's time to decrypt your previous message: Qnuux fxAum, CqrB rB j mnvx\n",
      "Hello World, this is a demo\n"
     ]
    }
   ],
   "source": [
    "user_input = input(\"Write the message you want to encrypt: \")\n",
    "encrypted_message = encrypter(user_input)\n",
    "print(encrypted_message)\n",
    "\n",
    "input(\"Now, it's time to decrypt your previous message: \")\n",
    "decrypted_message = decrypter(encrypted_message)\n",
    "print(decrypted_message)"
   ]
  },
  {
   "cell_type": "code",
   "execution_count": null,
   "metadata": {},
   "outputs": [],
   "source": []
  }
 ],
 "metadata": {
  "kernelspec": {
   "display_name": "Python 3",
   "language": "python",
   "name": "python3"
  },
  "language_info": {
   "codemirror_mode": {
    "name": "ipython",
    "version": 3
   },
   "file_extension": ".py",
   "mimetype": "text/x-python",
   "name": "python",
   "nbconvert_exporter": "python",
   "pygments_lexer": "ipython3",
   "version": "3.8.6"
  }
 },
 "nbformat": 4,
 "nbformat_minor": 4
}
